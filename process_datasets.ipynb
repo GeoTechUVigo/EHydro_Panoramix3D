{
 "cells": [
  {
   "cell_type": "code",
   "execution_count": 6,
   "id": "ebc242f2",
   "metadata": {},
   "outputs": [],
   "source": [
    "import os\n",
    "import laspy\n",
    "import numpy as np\n",
    "import matplotlib.pyplot as plt\n",
    "\n",
    "from pathlib import Path\n",
    "from tqdm import tqdm"
   ]
  },
  {
   "cell_type": "code",
   "execution_count": 7,
   "id": "54350d87",
   "metadata": {},
   "outputs": [],
   "source": [
    "for_instance_folder = Path.home() / 'datasets/FORinstance'\n",
    "nibio_mls_folder = Path.home() / 'datasets/NIBIO_MLS'\n",
    "output_folder = Path.home() / 'datasets/MixedDataset'\n",
    "\n",
    "for_instance_folder.mkdir(parents=True, exist_ok=True)\n",
    "nibio_mls_folder.mkdir(parents=True, exist_ok=True)\n",
    "output_folder.mkdir(parents=True, exist_ok=True)\n",
    "\n",
    "classes = {\n",
    "    'terrain': 0,\n",
    "    # 'low_vegetation': 1,\n",
    "    'stem': 1,\n",
    "    'canopy': 2\n",
    "}"
   ]
  },
  {
   "cell_type": "code",
   "execution_count": 8,
   "id": "918b4efe",
   "metadata": {},
   "outputs": [],
   "source": [
    "def load_point_clouds(folder):\n",
    "    files = sorted(\n",
    "        [f for f in folder.rglob(\"*\") if f.is_file() and f.suffix.lower() in ('.laz', '.las')],\n",
    "        key=lambda f: f.name\n",
    "    )\n",
    "\n",
    "    for path in files:\n",
    "        ext = path.suffix.lower()\n",
    "        file = laspy.read(path)\n",
    "\n",
    "        min_coords = np.array([file.x.min(), file.y.min(), file.z.min()], dtype=np.int64)\n",
    "        mins_world = min_coords * file.header.scales + file.header.offsets\n",
    "        file.header.offsets -= mins_world\n",
    "\n",
    "        intensity = np.array(file.intensity)\n",
    "        min_intensity = np.min(intensity)\n",
    "        max_intensity = np.max(intensity)\n",
    "\n",
    "        file.add_extra_dims([\n",
    "            laspy.ExtraBytesParams(name=\"norm_intensity\", type=np.float32),\n",
    "            laspy.ExtraBytesParams(name=\"semantic_pred\", type=np.int16),\n",
    "            laspy.ExtraBytesParams(name=\"instance_pred\", type=np.int16)\n",
    "        ])\n",
    "\n",
    "        file.norm_intensity = (intensity - min_intensity) / (max_intensity - min_intensity)\n",
    "        yield ext, file\n"
   ]
  },
  {
   "cell_type": "code",
   "execution_count": 9,
   "id": "d2b243e2",
   "metadata": {},
   "outputs": [
    {
     "name": "stderr",
     "output_type": "stream",
     "text": [
      "28it [00:49,  1.78s/it]\n"
     ]
    }
   ],
   "source": [
    "for_instance_classes = {\n",
    "    'unclassified': 0,\n",
    "    'low_vegetation': 1,\n",
    "    'terrain': 2,\n",
    "    'out_points': 3,\n",
    "    'stem': 4,\n",
    "    'live_branches': 5,\n",
    "    'woody_branches': 6\n",
    "}\n",
    "\n",
    "for i, (ext, file) in enumerate(tqdm(load_point_clouds(for_instance_folder))):\n",
    "    mask = (file.classification != for_instance_classes['out_points']) & (file.classification != for_instance_classes['unclassified'])  # Eliminamos puntos no clasificados o inválidos\n",
    "    file.points = file.points[mask]\n",
    "\n",
    "    semantic_labels = np.array(file.classification)\n",
    "    remap = np.copy(semantic_labels)\n",
    "\n",
    "    remap = np.where(semantic_labels == for_instance_classes['low_vegetation'], classes['terrain'], remap)\n",
    "    remap = np.where(semantic_labels == for_instance_classes['terrain'], classes['terrain'], remap)\n",
    "    remap = np.where(semantic_labels == for_instance_classes['stem'], classes['stem'], remap)\n",
    "    remap = np.where(semantic_labels == for_instance_classes['live_branches'], classes['canopy'], remap)\n",
    "    remap = np.where(semantic_labels == for_instance_classes['woody_branches'], classes['canopy'], remap)\n",
    "\n",
    "    file.semantic_pred = remap\n",
    "    file.instance_pred = file.treeID\n",
    "    file.write(output_folder / f'plot_FORinstance_{i}{ext}')\n"
   ]
  },
  {
   "cell_type": "code",
   "execution_count": 10,
   "id": "075f2421",
   "metadata": {},
   "outputs": [
    {
     "name": "stderr",
     "output_type": "stream",
     "text": [
      "64it [00:48,  1.33it/s]\n"
     ]
    }
   ],
   "source": [
    "nibio_mls_classes = {\n",
    "    'ground': 1,\n",
    "    'vegetation': 2,\n",
    "    'lying_deadwood': 3,\n",
    "    'stems': 4\n",
    "}\n",
    "\n",
    "for i, (ext, file) in enumerate(tqdm(load_point_clouds(nibio_mls_folder))):\n",
    "    semantic_labels = np.array(file.label)\n",
    "    remap = np.copy(semantic_labels)\n",
    "\n",
    "    remap = np.where(semantic_labels == nibio_mls_classes['ground'], classes['terrain'], remap)\n",
    "    remap = np.where((semantic_labels == nibio_mls_classes['vegetation']) & (file.treeID == 0), classes['terrain'], remap)\n",
    "    remap = np.where((semantic_labels == nibio_mls_classes['vegetation']) & (file.treeID != 0), classes['canopy'], remap)\n",
    "    remap = np.where(semantic_labels == 3, classes['terrain'], remap)\n",
    "    remap = np.where(semantic_labels == 4, classes['stem'], remap)\n",
    "\n",
    "    file.semantic_pred = remap\n",
    "    file.instance_pred = file.treeID\n",
    "    file.write(output_folder / f'plot_NIBIO_MLS_{i}{ext}')\n"
   ]
  }
 ],
 "metadata": {
  "kernelspec": {
   "display_name": "Python 3",
   "language": "python",
   "name": "python3"
  },
  "language_info": {
   "codemirror_mode": {
    "name": "ipython",
    "version": 3
   },
   "file_extension": ".py",
   "mimetype": "text/x-python",
   "name": "python",
   "nbconvert_exporter": "python",
   "pygments_lexer": "ipython3",
   "version": "3.8.10"
  }
 },
 "nbformat": 4,
 "nbformat_minor": 5
}
