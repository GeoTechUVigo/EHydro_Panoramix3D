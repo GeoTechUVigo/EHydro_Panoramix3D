{
 "cells": [
  {
   "cell_type": "code",
   "execution_count": 1,
   "id": "ebc242f2",
   "metadata": {},
   "outputs": [],
   "source": [
    "import laspy\n",
    "import numpy as np\n",
    "import matplotlib.pyplot as plt\n",
    "\n",
    "from pathlib import Path\n",
    "from tqdm import tqdm"
   ]
  },
  {
   "cell_type": "code",
   "execution_count": 2,
   "id": "54350d87",
   "metadata": {},
   "outputs": [],
   "source": [
    "classes = {\n",
    "    'terrain': 0,\n",
    "    'low_vegetation': 1,\n",
    "    'stem': 2,\n",
    "    'canopy': 3\n",
    "}"
   ]
  },
  {
   "cell_type": "code",
   "execution_count": 3,
   "id": "d2b243e2",
   "metadata": {},
   "outputs": [
    {
     "name": "stderr",
     "output_type": "stream",
     "text": [
      "100%|██████████| 28/28 [00:50<00:00,  1.81s/it]\n"
     ]
    }
   ],
   "source": [
    "for_instance_intensities = []\n",
    "folder = Path('./FORinstance_dataset')\n",
    "extensions = ('.laz', '.las')\n",
    "for_instance_files = sorted(\n",
    "            [f for f in folder.rglob(\"*\") if f.is_file() and f.suffix.lower() in extensions],\n",
    "            key=lambda f: f.name\n",
    "        )\n",
    "\n",
    "for i, path in enumerate(tqdm(for_instance_files)):\n",
    "    ext = path.suffix.lower()\n",
    "    file = laspy.read(path)\n",
    "\n",
    "    min_x = np.min(file.x)\n",
    "    min_y = np.min(file.y)\n",
    "    min_z = np.min(file.z)\n",
    "\n",
    "    max_x = np.max(file.x)\n",
    "    max_y = np.max(file.y)\n",
    "    \n",
    "    # print(f'Tamaño: ({(max_x - min_x):.2f}, {(max_y - min_y):.2f})')\n",
    "\n",
    "    x = file.x - min_x\n",
    "    y = file.y - min_y\n",
    "    z = file.z - min_z\n",
    "    \n",
    "    mask = (file.classification != 3) & (file.classification != 0)  # Eliminamos puntos no clasificados o inválidos\n",
    "    file.points = file.points[mask]\n",
    "\n",
    "    semantic_labels = np.array(file.classification)\n",
    "    remap = np.copy(semantic_labels)\n",
    "\n",
    "    remap = np.where(semantic_labels == 1, classes['low_vegetation'], remap)\n",
    "    remap = np.where(semantic_labels == 2, classes['terrain'], remap)\n",
    "    remap = np.where(semantic_labels == 4, classes['stem'], remap)\n",
    "    remap = np.where(semantic_labels == 5, classes['canopy'], remap)\n",
    "    remap = np.where(semantic_labels == 6, classes['canopy'], remap)\n",
    "\n",
    "    for_instance_intensities.append(np.array(file.intensity))\n",
    "\n",
    "    file.classification = remap\n",
    "    \n",
    "    intensity = np.array(file.intensity)\n",
    "    min_intensity = np.min(intensity)\n",
    "    max_intensity = np.max(intensity)\n",
    "    file.add_extra_dims([laspy.ExtraBytesParams(name=\"I_norm\", type=np.float32), laspy.ExtraBytesParams(name=\"wavelength\", type=np.int16)])\n",
    "    file.I_norm = (intensity - min_intensity) / (max_intensity - min_intensity)\n",
    "    file.wavelength = np.full(intensity.shape, fill_value=1550, dtype=np.int16) if path.parent.name == 'CULS' else np.full(intensity.shape, fill_value=905, dtype=np.int16)\n",
    "    file.write(f'./Corrected/FORinstance/plot_{i}{ext}')\n"
   ]
  },
  {
   "cell_type": "code",
   "execution_count": 4,
   "id": "075f2421",
   "metadata": {},
   "outputs": [
    {
     "name": "stderr",
     "output_type": "stream",
     "text": [
      "100%|██████████| 64/64 [02:14<00:00,  2.09s/it]\n"
     ]
    }
   ],
   "source": [
    "nibio_intensities = []\n",
    "start_idx = 28\n",
    "folder = Path('./NIBIO_MLS')\n",
    "extensions = ('.laz', '.las')\n",
    "for_instance_files = sorted(\n",
    "            [f for f in folder.rglob(\"*\") if f.is_file() and f.suffix.lower() in extensions],\n",
    "            key=lambda f: f.name\n",
    "        )\n",
    "\n",
    "for i, path in enumerate(tqdm(for_instance_files)):\n",
    "    ext = path.suffix.lower()\n",
    "    file = laspy.read(path)\n",
    "\n",
    "    min_x = np.min(file.x)\n",
    "    min_y = np.min(file.y)\n",
    "    min_z = np.min(file.z)\n",
    "\n",
    "    max_x = np.max(file.x)\n",
    "    max_y = np.max(file.y)\n",
    "    \n",
    "    # print(f'Tamaño: ({(max_x - min_x):.2f}, {(max_y - min_y):.2f})')\n",
    "\n",
    "    x = file.x - min_x\n",
    "    y = file.y - min_y\n",
    "    z = file.z - min_z\n",
    "\n",
    "    semantic_labels = np.array(file.label)\n",
    "    ids = np.array(file.treeID)\n",
    "    remap = np.copy(semantic_labels)\n",
    "\n",
    "    remap = np.where(semantic_labels == 1, classes['terrain'], remap)\n",
    "    remap = np.where((semantic_labels == 2) & (ids == 0), classes['low_vegetation'], remap)\n",
    "    remap = np.where((semantic_labels == 2) & (ids != 0), classes['canopy'], remap)\n",
    "    remap = np.where(semantic_labels == 3, classes['low_vegetation'], remap)\n",
    "    remap = np.where(semantic_labels == 4, classes['stem'], remap)\n",
    "\n",
    "    nibio_intensities.append(np.array(file.intensity))\n",
    "\n",
    "    file.classification = remap\n",
    "    intensity = np.array(file.intensity)\n",
    "    min_intensity = np.min(intensity)\n",
    "    max_intensity = np.max(intensity)\n",
    "    file.add_extra_dims([laspy.ExtraBytesParams(name=\"I_norm\", type=np.float32), laspy.ExtraBytesParams(name=\"wavelength\", type=np.int16)])\n",
    "    file.I_norm = (intensity - min_intensity) / (max_intensity - min_intensity)\n",
    "    file.wavelength = np.full(intensity.shape, fill_value=905, dtype=np.int16)\n",
    "    file.write(f'./Corrected/NIBIO_MLS/plot_{i + start_idx}{ext}')\n"
   ]
  },
  {
   "cell_type": "code",
   "execution_count": 5,
   "id": "3129390b",
   "metadata": {},
   "outputs": [],
   "source": [
    "for_instance_intensities = np.concatenate(for_instance_intensities)\n",
    "nibio_intensities = np.concatenate(nibio_intensities)\n",
    "\n",
    "with open('for_instance_intensities.npy', 'wb') as f:\n",
    "    np.save(f, for_instance_intensities)\n",
    "\n",
    "with open('nibio_intensities.npy', 'wb') as f:\n",
    "    np.save(f, nibio_intensities)"
   ]
  },
  {
   "cell_type": "code",
   "execution_count": 6,
   "id": "d86917fb",
   "metadata": {},
   "outputs": [
    {
     "data": {
      "image/png": "[encoded data removed]",
      "text/plain": [
       "<Figure size 640x480 with 1 Axes>"
      ]
     },
     "metadata": {},
     "output_type": "display_data"
    }
   ],
   "source": [
    "plt.hist(for_instance_intensities, bins=256, alpha=0.5, label='FORinstance')\n",
    "plt.hist(nibio_intensities, bins=256, alpha=0.5, label='NIBIO MLS')\n",
    "plt.xlabel('Intensity')\n",
    "plt.ylabel('Relative Frequency')\n",
    "plt.title('Intensity histogram comparison')\n",
    "plt.legend()\n",
    "plt.show()"
   ]
  }
 ],
 "metadata": {
  "kernelspec": {
   "display_name": "Python 3",
   "language": "python",
   "name": "python3"
  },
  "language_info": {
   "codemirror_mode": {
    "name": "ipython",
    "version": 3
   },
   "file_extension": ".py",
   "mimetype": "text/x-python",
   "name": "python",
   "nbconvert_exporter": "python",
   "pygments_lexer": "ipython3",
   "version": "3.8.3"
  }
 },
 "nbformat": 4,
 "nbformat_minor": 5
}
