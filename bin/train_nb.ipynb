{
 "cells": [
  {
   "cell_type": "code",
   "execution_count": 1,
   "id": "eb548a57",
   "metadata": {},
   "outputs": [
    {
     "name": "stdout",
     "output_type": "stream",
     "text": [
      "Jupyter environment detected. Enabling Open3D WebVisualizer.\n",
      "[Open3D INFO] WebRTC GUI backend enabled.\n",
      "[Open3D INFO] WebRTCWindowSystem: HTTP handshake server disabled.\n"
     ]
    }
   ],
   "source": [
    "import train\n",
    "import eval"
   ]
  },
  {
   "cell_type": "code",
   "execution_count": 2,
   "id": "f6c9936e",
   "metadata": {},
   "outputs": [
    {
     "name": "stdout",
     "output_type": "stream",
     "text": [
      "Parámetros totales: 19,310,509\n",
      "Parámetros entrenables: 19,310,509\n",
      "Resnet generates features at the following scales:\n",
      "\t* (0.3, 0.3, 0.3) meters -> 16 feats.\n",
      "\t* (0.6, 0.6, 0.6) meters -> 32 feats.\n",
      "\t* (1.2, 1.2, 1.2) meters -> 64 feats.\n",
      "\t* (2.4, 2.4, 2.4) meters -> 128 feats.\n",
      "\t* (2.4, 2.4, 4.8) meters -> 128 feats.\n",
      "\n",
      "Minimum scene size: (7.2, 7.2, 14.4) meters\n",
      "Version name: Panoramix3D_base_V3\n",
      "\n",
      "=== Starting epoch 1 / 6 ===\n",
      " * LR scale: 1.0\n",
      " * Freeze modules: ['instance']\n",
      "[Train]: 100%|██████████| 1330/1330 [20:31<00:00,  1.08it/s, VRAM=4.96 GB, Matched=4 / 8, TP=1 / 8, Total=6.87, Semantic=0.195, Specie=0.847, Centroid=1.57, Offset=1.24, Instance=3.01]     \n",
      "\n",
      "✅ Epoch 1 / 6 finished.\n",
      "[Val]: 100%|██████████| 4/4 [00:23<00:00,  5.78s/it, VRAM=4.96 GB, Matched=20 / 41, TP=2 / 41, Total=5.3, Semantic=0.314, Specie=0.791, Centroid=1.93, Offset=1.28, Instance=0.989]\n",
      "Version name: Panoramix3D_base_V3\n",
      "\n",
      "=== Starting epoch 2 / 6 ===\n",
      " * LR scale: 1.0\n",
      " * Freeze modules: []\n",
      "[Train]: 100%|██████████| 1330/1330 [24:52<00:00,  1.12s/it, VRAM=5.11 GB, Matched=7 / 5, TP=4 / 5, Total=5.04, Semantic=0.234, Specie=1.02, Centroid=1.8, Offset=1.04, Instance=0.951]        \n",
      "\n",
      "✅ Epoch 2 / 6 finished.\n",
      "[Val]: 100%|██████████| 4/4 [00:22<00:00,  5.61s/it, VRAM=5.11 GB, Matched=32 / 40, TP=23 / 40, Total=5, Semantic=0.196, Specie=0.664, Centroid=1.91, Offset=1.4, Instance=0.834]    \n",
      "Version name: Panoramix3D_base_V3\n",
      "\n",
      "=== Starting epoch 3 / 6 ===\n",
      " * LR scale: 1.0\n",
      " * Freeze modules: []\n",
      "[Train]: 100%|██████████| 1330/1330 [36:33<00:00,  1.65s/it, VRAM=5.11 GB, Matched=1 / 2, TP=2 / 2, Total=4.1, Semantic=0.435, Specie=0.83, Centroid=1.8, Offset=0.735, Instance=0.293]        \n",
      "\n",
      "✅ Epoch 3 / 6 finished.\n",
      "[Val]: 100%|██████████| 4/4 [00:26<00:00,  6.60s/it, VRAM=5.11 GB, Matched=39 / 54, TP=22 / 54, Total=4.46, Semantic=0.218, Specie=0.762, Centroid=1.59, Offset=1.18, Instance=0.703] \n",
      "Version name: Panoramix3D_base_V3\n",
      "\n",
      "=== Starting epoch 4 / 6 ===\n",
      " * LR scale: 1.0\n",
      " * Freeze modules: []\n",
      "[Train]: 100%|██████████| 1330/1330 [41:31<00:00,  1.87s/it, VRAM=5.11 GB, Matched=9 / 7, TP=6 / 7, Total=5.6, Semantic=0.176, Specie=0.863, Centroid=2.08, Offset=1.75, Instance=0.729]       \n",
      "\n",
      "✅ Epoch 4 / 6 finished.\n",
      "[Val]: 100%|██████████| 4/4 [00:26<00:00,  6.58s/it, VRAM=5.11 GB, Matched=52 / 59, TP=32 / 59, Total=3.77, Semantic=0.227, Specie=0.671, Centroid=1.41, Offset=0.875, Instance=0.587]\n",
      "Version name: Panoramix3D_base_V3\n",
      "\n",
      "=== Starting epoch 5 / 6 ===\n",
      " * LR scale: 1.0\n",
      " * Freeze modules: []\n",
      "[Train]: 100%|██████████| 1330/1330 [44:33<00:00,  2.01s/it, VRAM=5.11 GB, Matched=6 / 5, TP=4 / 5, Total=4.61, Semantic=0.386, Specie=0.926, Centroid=1.44, Offset=0.751, Instance=1.1]       \n",
      "\n",
      "✅ Epoch 5 / 6 finished.\n",
      "[Val]: 100%|██████████| 4/4 [00:26<00:00,  6.50s/it, VRAM=5.11 GB, Matched=38 / 46, TP=25 / 46, Total=4.34, Semantic=0.22, Specie=0.654, Centroid=1.43, Offset=1.19, Instance=0.852] \n",
      "Version name: Panoramix3D_base_V3\n",
      "\n",
      "=== Starting epoch 6 / 6 ===\n",
      " * LR scale: 1.0\n",
      " * Freeze modules: []\n",
      "[Train]: 100%|██████████| 1330/1330 [42:32<00:00,  1.92s/it, VRAM=5.11 GB, Matched=3 / 3, TP=3 / 3, Total=1.48, Semantic=0.336, Specie=0.605, Centroid=0.234, Offset=0.215, Instance=0.0938]   \n",
      "\n",
      "✅ Epoch 6 / 6 finished.\n",
      "[Val]: 100%|██████████| 4/4 [00:27<00:00,  6.90s/it, VRAM=5.11 GB, Matched=49 / 54, TP=35 / 54, Total=4.06, Semantic=0.2, Specie=0.759, Centroid=1.31, Offset=1.08, Instance=0.708] \n",
      "\n",
      "✅ Training finished. Weights saved to /home/samuel/Panoramix3D_data/Panoramix3D_base_V3/weights\n"
     ]
    }
   ],
   "source": [
    "train.main('../config/app.yaml')"
   ]
  },
  {
   "cell_type": "code",
   "execution_count": 2,
   "id": "4b983ceb",
   "metadata": {},
   "outputs": [
    {
     "name": "stdout",
     "output_type": "stream",
     "text": [
      "Parámetros totales: 19,310,374\n",
      "Parámetros entrenables: 19,310,374\n",
      "Resnet generates features at the following scales:\n",
      "\t* (0.3, 0.3, 0.3) meters -> 16 feats.\n",
      "\t* (0.6, 0.6, 0.6) meters -> 32 feats.\n",
      "\t* (1.2, 1.2, 1.2) meters -> 64 feats.\n",
      "\t* (2.4, 2.4, 2.4) meters -> 128 feats.\n",
      "\t* (2.4, 2.4, 4.8) meters -> 128 feats.\n",
      "\n",
      "Minimum scene size: (7.2, 7.2, 14.4) meters\n",
      "[Val]: 100%|██████████| 31/31 [00:27<00:00,  1.14it/s, VRAM=0.27 GB, Matched=5 / 7, TP=0 / 7, Total=7.28, Semantic=0.181, Specie=0.957, Centroid=2.65, Offset=1.7, Instance=1.8]     \n"
     ]
    }
   ],
   "source": [
    "eval.main('../config/app_eval.yaml')"
   ]
  }
 ],
 "metadata": {
  "kernelspec": {
   "display_name": "Python 3",
   "language": "python",
   "name": "python3"
  },
  "language_info": {
   "codemirror_mode": {
    "name": "ipython",
    "version": 3
   },
   "file_extension": ".py",
   "mimetype": "text/x-python",
   "name": "python",
   "nbconvert_exporter": "python",
   "pygments_lexer": "ipython3",
   "version": "3.10.12"
  }
 },
 "nbformat": 4,
 "nbformat_minor": 5
}
