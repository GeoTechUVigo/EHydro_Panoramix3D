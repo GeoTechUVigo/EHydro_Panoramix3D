{
 "cells": [
  {
   "cell_type": "code",
   "execution_count": 6,
   "id": "81709216",
   "metadata": {},
   "outputs": [],
   "source": [
    "import os\n",
    "import laspy\n",
    "import numpy as np\n",
    "import matplotlib.pyplot as plt\n",
    "\n",
    "from pathlib import Path\n",
    "from tqdm import tqdm"
   ]
  },
  {
   "cell_type": "code",
   "execution_count": 7,
   "id": "a9087427",
   "metadata": {},
   "outputs": [],
   "source": [
    "STEP = 20"
   ]
  },
  {
   "cell_type": "code",
   "execution_count": 8,
   "id": "5be2fe69",
   "metadata": {},
   "outputs": [],
   "source": [
    "eval_folder = Path('./eval')\n",
    "eval_folder.mkdir(parents=True, exist_ok=True)"
   ]
  },
  {
   "cell_type": "code",
   "execution_count": null,
   "id": "1b602336",
   "metadata": {},
   "outputs": [
    {
     "ename": "KeyboardInterrupt",
     "evalue": "",
     "output_type": "error",
     "traceback": [
      "\u001b[0;31m---------------------------------------------------------------------------\u001b[0m",
      "\u001b[0;31mKeyboardInterrupt\u001b[0m                         Traceback (most recent call last)",
      "Cell \u001b[0;32mIn[9], line 25\u001b[0m\n\u001b[1;32m     23\u001b[0m idx \u001b[38;5;241m=\u001b[39m np\u001b[38;5;241m.\u001b[39mravel_multi_index(idx\u001b[38;5;241m.\u001b[39mT, dims)\n\u001b[1;32m     24\u001b[0m unique_idx, inverse_map \u001b[38;5;241m=\u001b[39m np\u001b[38;5;241m.\u001b[39munique(idx, return_inverse\u001b[38;5;241m=\u001b[39m\u001b[38;5;28;01mTrue\u001b[39;00m)\n\u001b[0;32m---> 25\u001b[0m chunks \u001b[38;5;241m=\u001b[39m [idx \u001b[38;5;241m==\u001b[39m i \u001b[38;5;28;01mfor\u001b[39;00m i \u001b[38;5;129;01min\u001b[39;00m unique_idx]\n\u001b[1;32m     27\u001b[0m \u001b[38;5;28;01mfor\u001b[39;00m i, mask \u001b[38;5;129;01min\u001b[39;00m \u001b[38;5;28menumerate\u001b[39m(tqdm(chunks)):\n\u001b[1;32m     28\u001b[0m     chunk_intensities \u001b[38;5;241m=\u001b[39m intensity[mask]\n",
      "Cell \u001b[0;32mIn[9], line 25\u001b[0m, in \u001b[0;36m<listcomp>\u001b[0;34m(.0)\u001b[0m\n\u001b[1;32m     23\u001b[0m idx \u001b[38;5;241m=\u001b[39m np\u001b[38;5;241m.\u001b[39mravel_multi_index(idx\u001b[38;5;241m.\u001b[39mT, dims)\n\u001b[1;32m     24\u001b[0m unique_idx, inverse_map \u001b[38;5;241m=\u001b[39m np\u001b[38;5;241m.\u001b[39munique(idx, return_inverse\u001b[38;5;241m=\u001b[39m\u001b[38;5;28;01mTrue\u001b[39;00m)\n\u001b[0;32m---> 25\u001b[0m chunks \u001b[38;5;241m=\u001b[39m [\u001b[43midx\u001b[49m\u001b[43m \u001b[49m\u001b[38;5;241;43m==\u001b[39;49m\u001b[43m \u001b[49m\u001b[43mi\u001b[49m \u001b[38;5;28;01mfor\u001b[39;00m i \u001b[38;5;129;01min\u001b[39;00m unique_idx]\n\u001b[1;32m     27\u001b[0m \u001b[38;5;28;01mfor\u001b[39;00m i, mask \u001b[38;5;129;01min\u001b[39;00m \u001b[38;5;28menumerate\u001b[39m(tqdm(chunks)):\n\u001b[1;32m     28\u001b[0m     chunk_intensities \u001b[38;5;241m=\u001b[39m intensity[mask]\n",
      "\u001b[0;31mKeyboardInterrupt\u001b[0m: "
     ]
    }
   ],
   "source": [
    "input_folder = eval_folder / 'clouds_to_process'\n",
    "output_folder = eval_folder / 'clouds_processed'\n",
    "output_folder.mkdir(parents=True, exist_ok=True)\n",
    "\n",
    "extensions = ('.laz', '.las')\n",
    "point_clouds = sorted(\n",
    "            [f for f in input_folder.rglob(\"*\") if f.is_file() and f.suffix.lower() in extensions],\n",
    "            key=lambda f: f.name\n",
    "        )\n",
    "\n",
    "for i, path in enumerate(point_clouds):\n",
    "    ext = path.suffix.lower()\n",
    "    file = laspy.read(path)\n",
    "\n",
    "    points = file.points\n",
    "    coords = np.vstack((file.x, file.y, file.z)).transpose()\n",
    "    intensity = np.array(file.intensity)\n",
    "\n",
    "    idx = np.floor_divide(coords, STEP).astype(int)\n",
    "    idx -= idx.min(axis=0)\n",
    "    dims = idx.max(axis=0) + 1\n",
    "\n",
    "    idx = np.ravel_multi_index(idx.T, dims)\n",
    "    unique_idx, inverse_map = np.unique(idx, return_inverse=True)\n",
    "\n",
    "    for i, chunk_idx in enumerate(tqdm(unique_idx)):\n",
    "        mask = idx == chunk_idx\n",
    "        chunk_intensities = intensity[mask]\n",
    "        file.points = points[mask]\n",
    "    \n",
    "        min_intensity = np.min(chunk_intensities)\n",
    "        max_intensity = np.max(chunk_intensities)\n",
    "        file.add_extra_dim(laspy.ExtraBytesParams(name=\"I_norm\", type=np.float32))\n",
    "        file.I_norm = (chunk_intensities - min_intensity) / (max_intensity - min_intensity)\n",
    "        file.write(output_folder / f'plot_{i}{ext}')\n"
   ]
  }
 ],
 "metadata": {
  "kernelspec": {
   "display_name": "Python 3",
   "language": "python",
   "name": "python3"
  },
  "language_info": {
   "codemirror_mode": {
    "name": "ipython",
    "version": 3
   },
   "file_extension": ".py",
   "mimetype": "text/x-python",
   "name": "python",
   "nbconvert_exporter": "python",
   "pygments_lexer": "ipython3",
   "version": "3.8.10"
  }
 },
 "nbformat": 4,
 "nbformat_minor": 5
}
